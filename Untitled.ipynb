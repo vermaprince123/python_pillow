{
 "cells": [
  {
   "cell_type": "code",
   "execution_count": 17,
   "id": "4d7a7497",
   "metadata": {},
   "outputs": [],
   "source": [
    "from PIL import Image  \n",
    "#Open image using Image module  \n",
    "im = Image.open(r\"C:\\Users\\dglig\\Desktop\\wprince\\ione.jpg\") \n",
    "imtwo = im.transpose(Image.FLIP_LEFT_RIGHT)\n",
    "imtwo.show()\n",
    "#Show actual Image  \n",
    "#im.show()  \n",
    "#Show rotated Image  \n",
    "# imo = im.rotate(45) \n",
    "# r,b,g = im.split()\n",
    "# im = Image.merge(\"RGB\",(b,g,r))\n",
    "# im.show()  \n",
    "# im.filename\n",
    "# im.format\n",
    "# im.mode\n",
    "# im.size\n",
    "# im.info\n"
   ]
  },
  {
   "cell_type": "code",
   "execution_count": null,
   "id": "38d4b8b1",
   "metadata": {},
   "outputs": [],
   "source": []
  },
  {
   "cell_type": "code",
   "execution_count": null,
   "id": "3408990e",
   "metadata": {},
   "outputs": [],
   "source": []
  }
 ],
 "metadata": {
  "kernelspec": {
   "display_name": "Python 3",
   "language": "python",
   "name": "python3"
  },
  "language_info": {
   "codemirror_mode": {
    "name": "ipython",
    "version": 3
   },
   "file_extension": ".py",
   "mimetype": "text/x-python",
   "name": "python",
   "nbconvert_exporter": "python",
   "pygments_lexer": "ipython3",
   "version": "3.8.8"
  }
 },
 "nbformat": 4,
 "nbformat_minor": 5
}
